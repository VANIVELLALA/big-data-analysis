{
 "cells": [
  {
   "cell_type": "code",
   "execution_count": 1,
   "id": "8af3ed3d",
   "metadata": {},
   "outputs": [
    {
     "name": "stdout",
     "output_type": "stream",
     "text": [
      "Requirement already satisfied: dask in c:\\users\\dell\\appdata\\local\\programs\\python\\python311\\lib\\site-packages (2025.7.0)\n",
      "Requirement already satisfied: pandas in c:\\users\\dell\\appdata\\local\\programs\\python\\python311\\lib\\site-packages (2.3.1)\n",
      "Requirement already satisfied: openpyxl in c:\\users\\dell\\appdata\\local\\programs\\python\\python311\\lib\\site-packages (3.1.5)\n",
      "Requirement already satisfied: click>=8.1 in c:\\users\\dell\\appdata\\local\\programs\\python\\python311\\lib\\site-packages (from dask) (8.2.1)\n",
      "Requirement already satisfied: cloudpickle>=3.0.0 in c:\\users\\dell\\appdata\\local\\programs\\python\\python311\\lib\\site-packages (from dask) (3.1.1)\n",
      "Requirement already satisfied: fsspec>=2021.09.0 in c:\\users\\dell\\appdata\\local\\programs\\python\\python311\\lib\\site-packages (from dask) (2025.7.0)\n",
      "Requirement already satisfied: packaging>=20.0 in c:\\users\\dell\\appdata\\roaming\\python\\python311\\site-packages (from dask) (25.0)\n",
      "Requirement already satisfied: partd>=1.4.0 in c:\\users\\dell\\appdata\\local\\programs\\python\\python311\\lib\\site-packages (from dask) (1.4.2)\n",
      "Requirement already satisfied: pyyaml>=5.3.1 in c:\\users\\dell\\appdata\\local\\programs\\python\\python311\\lib\\site-packages (from dask) (6.0.2)\n",
      "Requirement already satisfied: toolz>=0.10.0 in c:\\users\\dell\\appdata\\local\\programs\\python\\python311\\lib\\site-packages (from dask) (1.0.0)\n",
      "Requirement already satisfied: importlib_metadata>=4.13.0 in c:\\users\\dell\\appdata\\local\\programs\\python\\python311\\lib\\site-packages (from dask) (8.7.0)\n",
      "Requirement already satisfied: numpy>=1.23.2 in c:\\users\\dell\\appdata\\local\\programs\\python\\python311\\lib\\site-packages (from pandas) (2.3.2)\n",
      "Requirement already satisfied: python-dateutil>=2.8.2 in c:\\users\\dell\\appdata\\roaming\\python\\python311\\site-packages (from pandas) (2.9.0.post0)\n",
      "Requirement already satisfied: pytz>=2020.1 in c:\\users\\dell\\appdata\\local\\programs\\python\\python311\\lib\\site-packages (from pandas) (2025.2)\n",
      "Requirement already satisfied: tzdata>=2022.7 in c:\\users\\dell\\appdata\\local\\programs\\python\\python311\\lib\\site-packages (from pandas) (2025.2)\n",
      "Requirement already satisfied: et-xmlfile in c:\\users\\dell\\appdata\\local\\programs\\python\\python311\\lib\\site-packages (from openpyxl) (2.0.0)\n",
      "Requirement already satisfied: colorama in c:\\users\\dell\\appdata\\roaming\\python\\python311\\site-packages (from click>=8.1->dask) (0.4.6)\n",
      "Requirement already satisfied: zipp>=3.20 in c:\\users\\dell\\appdata\\local\\programs\\python\\python311\\lib\\site-packages (from importlib_metadata>=4.13.0->dask) (3.23.0)\n",
      "Requirement already satisfied: locket in c:\\users\\dell\\appdata\\local\\programs\\python\\python311\\lib\\site-packages (from partd>=1.4.0->dask) (1.0.0)\n",
      "Requirement already satisfied: six>=1.5 in c:\\users\\dell\\appdata\\roaming\\python\\python311\\site-packages (from python-dateutil>=2.8.2->pandas) (1.17.0)\n",
      "Note: you may need to restart the kernel to use updated packages.\n"
     ]
    },
    {
     "name": "stderr",
     "output_type": "stream",
     "text": [
      "\n",
      "[notice] A new release of pip is available: 23.2.1 -> 25.2\n",
      "[notice] To update, run: python.exe -m pip install --upgrade pip\n"
     ]
    }
   ],
   "source": [
    "pip install dask pandas openpyxl\n"
   ]
  },
  {
   "cell_type": "code",
   "execution_count": 2,
   "id": "756b6788",
   "metadata": {},
   "outputs": [],
   "source": [
    "import pandas as pd\n",
    "df = pd.read_excel(\"food_sales_dataset.csv.xlsx\")\n",
    "df.to_csv(\"food_sales_dataset.csv\", index=False)\n"
   ]
  },
  {
   "cell_type": "code",
   "execution_count": 3,
   "id": "33c8967e",
   "metadata": {},
   "outputs": [
    {
     "name": "stdout",
     "output_type": "stream",
     "text": [
      "Sample data:\n",
      "   OrderID        Date Product   Category  Quantity  Price  Total         City\n",
      "0     1001  2025-07-05  Burger  Fast Food         1  15.74  15.74  Los Angeles\n",
      "1     1002  2025-05-14    Taco    Mexican         2  15.65  31.30      Houston\n",
      "2     1003  2025-05-06  Burger  Fast Food         5  10.46  52.30     New York\n",
      "3     1004  2025-07-14  Burger  Fast Food         2   7.34  14.68      Houston\n",
      "4     1005  2025-05-30   Pizza  Fast Food         5   6.78  33.90      Houston\n"
     ]
    }
   ],
   "source": [
    "import dask.dataframe as dd\n",
    "\n",
    "# Load the CSV file\n",
    "df = dd.read_csv(\"food_sales_dataset.csv\")\n",
    "\n",
    "# Preview data\n",
    "print(\"Sample data:\")\n",
    "print(df.head())\n"
   ]
  },
  {
   "cell_type": "code",
   "execution_count": 4,
   "id": "e3deb142",
   "metadata": {},
   "outputs": [
    {
     "name": "stdout",
     "output_type": "stream",
     "text": [
      "Total rows: 1000\n",
      "Columns: Index(['OrderID', 'Date', 'Product', 'Category', 'Quantity', 'Price', 'Total',\n",
      "       'City'],\n",
      "      dtype='object')\n"
     ]
    }
   ],
   "source": [
    "# Total rows and columns\n",
    "print(\"Total rows:\", df.shape[0].compute())\n",
    "print(\"Columns:\", df.columns)\n"
   ]
  },
  {
   "cell_type": "code",
   "execution_count": 6,
   "id": "ef158d1c",
   "metadata": {},
   "outputs": [
    {
     "name": "stdout",
     "output_type": "stream",
     "text": [
      "\n",
      "Total Sales by Category:\n",
      "Category\n",
      "Beverage      3979.92\n",
      "Fast Food    10719.90\n",
      "Grill         2550.06\n",
      "Healthy       4110.49\n",
      "Italian       4089.49\n",
      "Japanese      3563.56\n",
      "Mexican       6791.58\n",
      "Name: Total, dtype: float64\n"
     ]
    }
   ],
   "source": [
    "sales_by_category = df.groupby('Category')['Total'].sum().compute()\n",
    "print(\"\\nTotal Sales by Category:\")\n",
    "print(sales_by_category)\n"
   ]
  },
  {
   "cell_type": "code",
   "execution_count": 8,
   "id": "fb34c501",
   "metadata": {},
   "outputs": [
    {
     "name": "stdout",
     "output_type": "stream",
     "text": [
      "\n",
      "Top 10 Selling Products:\n",
      "Product\n",
      "Pasta            351\n",
      "Salad            335\n",
      "Smoothie         323\n",
      "Burger           319\n",
      "Sushi            315\n",
      "Fried Chicken    311\n",
      "Taco             309\n",
      "Burrito          302\n",
      "Pizza            289\n",
      "Steak            232\n",
      "Name: Quantity, dtype: int64\n"
     ]
    }
   ],
   "source": [
    "top_products = df.groupby('Product')['Quantity'].sum().nlargest(10).compute()\n",
    "print(\"\\nTop 10 Selling Products:\")\n",
    "print(top_products)\n"
   ]
  },
  {
   "cell_type": "code",
   "execution_count": 10,
   "id": "94713d83",
   "metadata": {},
   "outputs": [
    {
     "name": "stdout",
     "output_type": "stream",
     "text": [
      "\n",
      "Monthly Sales Trend:\n",
      "Month\n",
      "2025-05    11102.07\n",
      "2025-06    11447.50\n",
      "2025-07    11920.17\n",
      "2025-08     1335.26\n",
      "Freq: M, Name: Total, dtype: float64\n"
     ]
    }
   ],
   "source": [
    "# Convert to datetime and extract month\n",
    "df['Date'] = dd.to_datetime(df['Date'])\n",
    "df['Month'] = df['Date'].dt.to_period('M')\n",
    "\n",
    "monthly_sales = df.groupby('Month')['Total'].sum().compute()\n",
    "print(\"\\nMonthly Sales Trend:\")\n",
    "print(monthly_sales)\n"
   ]
  },
  {
   "cell_type": "code",
   "execution_count": 12,
   "id": "091ffdde",
   "metadata": {},
   "outputs": [
    {
     "name": "stdout",
     "output_type": "stream",
     "text": [
      "\n",
      "Average Order Value: 35.8\n"
     ]
    }
   ],
   "source": [
    "avg_order_value = df['Total'].mean().compute()\n",
    "print(\"\\nAverage Order Value:\", round(avg_order_value, 2))\n"
   ]
  },
  {
   "cell_type": "code",
   "execution_count": 13,
   "id": "167c24dd",
   "metadata": {},
   "outputs": [],
   "source": [
    "sales_by_category.to_csv(\"sales_by_category.csv\")\n",
    "top_products.to_csv(\"top_products.csv\")\n",
    "monthly_sales.to_csv(\"monthly_sales.csv\")\n"
   ]
  },
  {
   "cell_type": "code",
   "execution_count": null,
   "id": "7d560167",
   "metadata": {},
   "outputs": [],
   "source": []
  }
 ],
 "metadata": {
  "kernelspec": {
   "display_name": "Python 3",
   "language": "python",
   "name": "python3"
  },
  "language_info": {
   "codemirror_mode": {
    "name": "ipython",
    "version": 3
   },
   "file_extension": ".py",
   "mimetype": "text/x-python",
   "name": "python",
   "nbconvert_exporter": "python",
   "pygments_lexer": "ipython3",
   "version": "3.11.5"
  }
 },
 "nbformat": 4,
 "nbformat_minor": 5
}
