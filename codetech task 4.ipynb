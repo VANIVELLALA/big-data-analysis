{
 "cells": [
  {
   "cell_type": "code",
   "execution_count": 1,
   "id": "dcb03631",
   "metadata": {},
   "outputs": [
    {
     "name": "stdout",
     "output_type": "stream",
     "text": [
      "                                   review_text  sentiment_score  \\\n",
      "0              The food was amazing and fresh!         0.487500   \n",
      "1        Terrible service, very disappointing.        -0.890000   \n",
      "2         Average experience. Nothing special.         0.103571   \n",
      "3  Loved the spicy noodles. Would order again!         0.875000   \n",
      "4            The pizza was too salty and cold.        -0.600000   \n",
      "\n",
      "  sentiment_label  \n",
      "0        Positive  \n",
      "1        Negative  \n",
      "2        Positive  \n",
      "3        Positive  \n",
      "4        Negative  \n"
     ]
    }
   ],
   "source": [
    "from textblob import TextBlob\n",
    "import pandas as pd\n",
    "\n",
    "# Sample textual data (you can replace with tweet/review column)\n",
    "data = {\n",
    "    'review_id': [1, 2, 3, 4, 5],\n",
    "    'review_text': [\n",
    "        \"The food was amazing and fresh!\",\n",
    "        \"Terrible service, very disappointing.\",\n",
    "        \"Average experience. Nothing special.\",\n",
    "        \"Loved the spicy noodles. Would order again!\",\n",
    "        \"The pizza was too salty and cold.\"\n",
    "    ]\n",
    "}\n",
    "\n",
    "df = pd.DataFrame(data)\n",
    "\n",
    "# Perform sentiment analysis\n",
    "def get_sentiment(text):\n",
    "    blob = TextBlob(text)\n",
    "    return blob.sentiment.polarity\n",
    "\n",
    "df['sentiment_score'] = df['review_text'].apply(get_sentiment)\n",
    "\n",
    "# Label as Positive, Neutral, or Negative\n",
    "df['sentiment_label'] = df['sentiment_score'].apply(\n",
    "    lambda x: 'Positive' if x > 0 else ('Negative' if x < 0 else 'Neutral')\n",
    ")\n",
    "\n",
    "# Display results\n",
    "print(df[['review_text', 'sentiment_score', 'sentiment_label']])\n"
   ]
  },
  {
   "cell_type": "code",
   "execution_count": null,
   "id": "d739586b",
   "metadata": {},
   "outputs": [],
   "source": []
  }
 ],
 "metadata": {
  "kernelspec": {
   "display_name": "Python 3",
   "language": "python",
   "name": "python3"
  },
  "language_info": {
   "codemirror_mode": {
    "name": "ipython",
    "version": 3
   },
   "file_extension": ".py",
   "mimetype": "text/x-python",
   "name": "python",
   "nbconvert_exporter": "python",
   "pygments_lexer": "ipython3",
   "version": "3.11.5"
  }
 },
 "nbformat": 4,
 "nbformat_minor": 5
}
